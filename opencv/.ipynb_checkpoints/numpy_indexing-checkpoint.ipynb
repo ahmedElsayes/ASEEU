{
 "cells": [
  {
   "cell_type": "code",
   "execution_count": 2,
   "metadata": {},
   "outputs": [],
   "source": [
    "import numpy as np"
   ]
  },
  {
   "cell_type": "code",
   "execution_count": null,
   "metadata": {},
   "outputs": [],
   "source": [
    "X = [[3,5,9], [5,8,7], [15,12,36]]\n",
    "Y = [*range(0,11,1)]\n",
    "print(X,'\\n\\n', Y)"
   ]
  },
  {
   "cell_type": "code",
   "execution_count": null,
   "metadata": {},
   "outputs": [],
   "source": [
    "ex1 = X[0][2]\n",
    "ex2 = X[1][:]\n",
    "print(ex1,'\\n', ex2)"
   ]
  },
  {
   "cell_type": "code",
   "execution_count": null,
   "metadata": {},
   "outputs": [],
   "source": [
    "ex4 = Y[3::]\n",
    "ex4"
   ]
  },
  {
   "cell_type": "code",
   "execution_count": 3,
   "metadata": {},
   "outputs": [
    {
     "data": {
      "text/plain": [
       "array([[ 3,  5,  9],\n",
       "       [ 5,  8,  7],\n",
       "       [10, 20, 30]])"
      ]
     },
     "execution_count": 3,
     "metadata": {},
     "output_type": "execute_result"
    }
   ],
   "source": [
    "X = np.array([[3,5,9], [5,8,7], [10,20,30]])\n",
    "X"
   ]
  },
  {
   "cell_type": "code",
   "execution_count": 7,
   "metadata": {},
   "outputs": [
    {
     "data": {
      "text/plain": [
       "array([[3, 5, 9],\n",
       "       [5, 8, 7]])"
      ]
     },
     "execution_count": 7,
     "metadata": {},
     "output_type": "execute_result"
    }
   ],
   "source": [
    "ex5 = X[0:2, :]\n",
    "ex5"
   ]
  },
  {
   "cell_type": "code",
   "execution_count": 15,
   "metadata": {},
   "outputs": [
    {
     "name": "stdout",
     "output_type": "stream",
     "text": [
      "[-4 -2  0  2  4  6  8 10] \n",
      " 8 \n",
      " [[-4 -2  0  2]\n",
      " [ 4  6  8 10]] \n",
      " 8\n"
     ]
    }
   ],
   "source": [
    "Y = np.arange(-4, 11, 2, dtype=np.int8)\n",
    "YY = len(Y)\n",
    "siz = Y.size\n",
    "Y1 = Y.reshape(2,4)\n",
    "siz1 = Y1.size\n",
    "print(Y,'\\n', siz,'\\n', Y1,'\\n',siz1)"
   ]
  },
  {
   "cell_type": "code",
   "execution_count": 20,
   "metadata": {},
   "outputs": [
    {
     "name": "stdout",
     "output_type": "stream",
     "text": [
      "3.0 \n",
      " -4 \n",
      " [ 4  2  0  2  4  6  8 10]\n"
     ]
    }
   ],
   "source": [
    "e1 =Y1.shape\n",
    "e2 = np.amax(Y1)\n",
    "e3 = np.argmax(Y1)\n",
    "e4 = np.average(Y1)\n",
    "e5 = np.amin(Y1)\n",
    "e6 = np.argmin(Y1)\n",
    "e8 = np.abs(Y)\n",
    "print(e4,'\\n',e5,'\\n',e8)"
   ]
  },
  {
   "cell_type": "code",
   "execution_count": null,
   "metadata": {},
   "outputs": [],
   "source": []
  }
 ],
 "metadata": {
  "kernelspec": {
   "display_name": "Python 3.6.4 32-bit ('.venv': venv)",
   "language": "python",
   "name": "python36432bitvenvvenve47b9ececebc4982b36ab866990ceecf"
  },
  "language_info": {
   "codemirror_mode": {
    "name": "ipython",
    "version": 3
   },
   "file_extension": ".py",
   "mimetype": "text/x-python",
   "name": "python",
   "nbconvert_exporter": "python",
   "pygments_lexer": "ipython3",
   "version": "3.6.4"
  }
 },
 "nbformat": 4,
 "nbformat_minor": 4
}
